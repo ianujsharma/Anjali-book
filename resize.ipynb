{
 "cells": [
  {
   "cell_type": "code",
   "execution_count": 1,
   "metadata": {},
   "outputs": [
    {
     "name": "stdout",
     "output_type": "stream",
     "text": [
      "Requirement already satisfied: pillow in c:\\users\\student\\appdata\\local\\programs\\python\\python38\\lib\\site-packages (10.0.1)\n",
      "Note: you may need to restart the kernel to use updated packages.\n"
     ]
    },
    {
     "name": "stderr",
     "output_type": "stream",
     "text": [
      "\n",
      "[notice] A new release of pip is available: 23.2.1 -> 24.1.1\n",
      "[notice] To update, run: python.exe -m pip install --upgrade pip\n"
     ]
    }
   ],
   "source": [
    "pip install pillow\n"
   ]
  },
  {
   "cell_type": "code",
   "execution_count": 8,
   "metadata": {},
   "outputs": [
    {
     "name": "stdout",
     "output_type": "stream",
     "text": [
      "Compressed image saved to D:\\me(final)\\view\\carousel\\Carousel - The Blog Template\\template\\image\\iiblog-image.jpg\n",
      "Compressed image saved to D:\\me(final)\\view\\carousel\\Carousel - The Blog Template\\template\\image\\iiblog-image2.jpg\n",
      "Compressed image saved to D:\\me(final)\\view\\carousel\\Carousel - The Blog Template\\template\\image\\iicat.jpg\n",
      "Compressed image saved to D:\\me(final)\\view\\carousel\\Carousel - The Blog Template\\template\\image\\iilogo.jpg\n",
      "Compressed image saved to D:\\me(final)\\view\\carousel\\Carousel - The Blog Template\\template\\image\\iime.jpg\n",
      "Compressed image saved to D:\\me(final)\\view\\carousel\\Carousel - The Blog Template\\template\\image\\iipost0.jpg\n",
      "Compressed image saved to D:\\me(final)\\view\\carousel\\Carousel - The Blog Template\\template\\image\\iipost1.jpg\n",
      "Compressed image saved to D:\\me(final)\\view\\carousel\\Carousel - The Blog Template\\template\\image\\iipost2.jpg\n",
      "Compressed image saved to D:\\me(final)\\view\\carousel\\Carousel - The Blog Template\\template\\image\\iipost3.jpg\n",
      "Compressed image saved to D:\\me(final)\\view\\carousel\\Carousel - The Blog Template\\template\\image\\iipost4.jpg\n",
      "Compressed image saved to D:\\me(final)\\view\\carousel\\Carousel - The Blog Template\\template\\image\\iipost6.jpg\n",
      "Compressed image saved to D:\\me(final)\\view\\carousel\\Carousel - The Blog Template\\template\\image\\iipost7.jpg\n",
      "Compressed image saved to D:\\me(final)\\view\\carousel\\Carousel - The Blog Template\\template\\image\\iiprofile.jpg\n",
      "done\n"
     ]
    }
   ],
   "source": [
    "from PIL import Image\n",
    "import os\n",
    "\n",
    "def compress_image(input_path, output_path, quality=50):\n",
    "    \"\"\"\n",
    "    Compresses the image and saves it to the output path.\n",
    "    \n",
    "    Args:\n",
    "        input_path (str): The path to the input image.\n",
    "        output_path (str): The path to save the compressed image.\n",
    "        quality (int): The quality setting for the compressed image (1-100).\n",
    "    \"\"\"\n",
    "    # Open the image file\n",
    "    with Image.open(input_path) as img:\n",
    "        # Save the image with the specified quality\n",
    "        img.save(output_path, \"JPEG\", quality=quality)\n",
    "        print(f\"Compressed image saved to {output_path}\")\n",
    "\n",
    "import os\n",
    "for i in os.listdir(\"D:\\\\me(final)\\\\view\\\\carousel\\\\Carousel - The Blog Template\\\\template\\\\images\\\\\"):\n",
    "# Example usage\n",
    "    if i != \"ii\":\n",
    "        input_image_path = \"D:\\\\me(final)\\\\view\\\\carousel\\\\Carousel - The Blog Template\\\\template\\\\images\\\\\" + i\n",
    "        output_image_path = \"D:\\\\me(final)\\\\view\\\\carousel\\\\Carousel - The Blog Template\\\\template\\\\image\\\\\"+ i\n",
    "        compress_image(input_image_path, output_image_path, quality=50) \n",
    "print(\"done\")\n"
   ]
  },
  {
   "cell_type": "code",
   "execution_count": 5,
   "metadata": {},
   "outputs": [
    {
     "data": {
      "text/plain": [
       "['blog-image.jpg',\n",
       " 'blog-image2.jpg',\n",
       " 'cat.jpg',\n",
       " 'loading.gif',\n",
       " 'logo.jpg',\n",
       " 'me.jpg',\n",
       " 'newsletter.jpg',\n",
       " 'post0.jpg',\n",
       " 'post1.jpg',\n",
       " 'post2.jpg',\n",
       " 'post3.jpg',\n",
       " 'post4.jpg',\n",
       " 'post6.jpg',\n",
       " 'post7.jpg',\n",
       " 'profile.jpg']"
      ]
     },
     "execution_count": 5,
     "metadata": {},
     "output_type": "execute_result"
    }
   ],
   "source": [
    "os.listdir('D:\\\\me(final)\\\\view\\\\carousel\\\\Carousel - The Blog Template\\\\template\\\\images\\\\')"
   ]
  },
  {
   "cell_type": "code",
   "execution_count": null,
   "metadata": {},
   "outputs": [],
   "source": []
  }
 ],
 "metadata": {
  "kernelspec": {
   "display_name": "Python 3.8.9 64-bit",
   "language": "python",
   "name": "python3"
  },
  "language_info": {
   "codemirror_mode": {
    "name": "ipython",
    "version": 3
   },
   "file_extension": ".py",
   "mimetype": "text/x-python",
   "name": "python",
   "nbconvert_exporter": "python",
   "pygments_lexer": "ipython3",
   "version": "3.8.9"
  },
  "orig_nbformat": 4,
  "vscode": {
   "interpreter": {
    "hash": "b09de83b1b000ad611bac930a3dd99cafa180e83d051e25f087e5eb08b3b2518"
   }
  }
 },
 "nbformat": 4,
 "nbformat_minor": 2
}
